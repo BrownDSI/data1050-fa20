{
 "cells": [
  {
   "cell_type": "markdown",
   "metadata": {
    "collapsed": false
   },
   "source": [
    "### Correctness, Run-Time, Algorithmic Run-Time\n",
    "##### *22 September 2020*\n",
    "##### *DATA 1050*\n",
    "\n",
    "1. Correctness - When is an algorithm correct?\n",
    "2. Run-time\n",
    "3. Algorithmic Run-Time (ART)"
   ]
  },
  {
   "cell_type": "markdown",
   "metadata": {
    "collapsed": false
   },
   "source": [
    "#### Fixing bugs versus showing correctness\n",
    "\n",
    "Fixing bugs is great, but how do we know the algorithm itself is **correct**?\n",
    "\n",
    "In order to show correctness one needs to show two things:\n",
    "1. Algorithm will return the right answer if it finishes (i.e., terminates)\n",
    "2. Algorithm will actually terminate\n",
    "\n",
    "For iterative algorithms (i.e. algorithms with loops), a common strategy is to identify\n",
    "\n",
    "1. **Loop invariants** (true on loop entry, true on loop exit) guarantee the problem is on track for solution or solved\n",
    "   * on entry, answer is available, and with every iteration\n",
    "   * on exit, answer has been found\n",
    "\n",
    "2. **Loop termination guarantee** establishes real*real progress* is being made\n",
    "   * problem size is \"finite\"\n",
    "   * problem size reduced by at least **a constant amount** every iteration\n"
   ]
  },
  {
   "cell_type": "markdown",
   "metadata": {
    "collapsed": false
   },
   "source": [
    "#### Example `isin_binarySearch(L, item)`:\n",
    "\n",
    "**Loop Invariant:**\n",
    "\n",
    "* Entry: At the beginning of each iteration, the search space (i.e., {L[k]: k in in [low,...,high]} contains the solution\n",
    "* Exits:\n",
    "1. (L[mid]==item) => item has been found \n",
    "2. (low>high), search space is empty => item has not been found\n",
    "\n",
    "**Termination Guarantee:**\n",
    "After each iteration, the size of of the search space |[low,...,high]| is reduced by at least 1."
   ]
  },
  {
   "cell_type": "code",
   "execution_count": 0,
   "metadata": {
    "collapsed": false
   },
   "outputs": [
   ],
   "source": [
    "def isin_binarySearch(L,item): # L=[1], item=1\n",
    "    '''Returns True when item is in L, False otherwise.\n",
    "    Assumes L is sorted in ascending order.'''\n",
    "    low = 0\n",
    "    high = len(L) - 1\n",
    "    while low <= high: \n",
    "        # Loop Invariant Entry: (must be true at beginning of each iteration)\n",
    "        # Elements of list L with indices between low and high (inclusive) have not been examined.\n",
    "        # list elements with index < low don't contain item. (no skipping)\n",
    "        # list elements with index > high don't contain the item. (no skipping)\n",
    "        mid = (low + high) // 2\n",
    "        if L[mid] == item:\n",
    "            return True # Loop Invariant Exit 1: L[mid] is the item being search for\n",
    "        if L[mid] > item: # list[mid] was too high\n",
    "            high = mid - 1\n",
    "        else: # The guess was too low.\n",
    "            low = mid + 1\n",
    "        # Termination guarantee: (must be true after each iteration)\n",
    "        # the number of elements between low and high have been reduced by at least 1\n",
    "\n",
    "    # Loop Invariant Exit 2: Search space is now empty (L>H), item not found \n",
    "    return False"
   ]
  },
  {
   "cell_type": "markdown",
   "metadata": {
    "collapsed": false
   },
   "source": [
    "**Exercise 4.1**\n",
    "\n",
    "Show isin_linearSearch is correct."
   ]
  },
  {
   "cell_type": "code",
   "execution_count": 0,
   "metadata": {
    "collapsed": false
   },
   "outputs": [
   ],
   "source": [
    "# *Solution 4.1* \n",
    "# Your solution here\n",
    "\n",
    "def isin_linearSearch(L,item):\n",
    "    for e in L:\n",
    "        if e == item:\n",
    "            return True\n",
    "    return False\n"
   ]
  },
  {
   "cell_type": "code",
   "execution_count": 0,
   "metadata": {
    "collapsed": false
   },
   "outputs": [
   ],
   "source": [
   ]
  },
  {
   "cell_type": "markdown",
   "metadata": {
    "collapsed": false
   },
   "source": [
    "In Python, `for` loops can conveniently hide details, e.g., the above loop hides the index that is being using to linearly iterate through L.  But it is really helpful to have access to the index when reasoning about loops.  \n",
    "\n",
    "Similar issues arise when trying to reason about list comprehensions, the `in` operator for contains, `filter`, `map`, `reduce`, etc.\n",
    "\n",
    "#### Let's refactor this `for` loop into a `while` loop\n",
    "\n",
    "**Question:** Is it always possible to convert other loop constructs into a corresponding while loop?\n",
    "\n",
    "**Answer:** Yes! see below.\n",
    "\n",
    "**Question:** Does this mean I should only use `while` loops when I program? Absolutely not, use of explicit indexing often leads to code that is harder to write correctly and read subsequently (and thus maintain).  Whereas, avoiding it can often make your code easier to write and for others to understand. _Simple is often better._"
   ]
  },
  {
   "cell_type": "code",
   "execution_count": 0,
   "metadata": {
    "collapsed": false
   },
   "outputs": [
   ],
   "source": [
    "def isin_linearSearch_while_version(L,item):\n",
    "    'Returns True when item is in L, False otherwise'\n",
    "    i = 0\n",
    "    while i < len(L):\n",
    "        if L[i] == item:\n",
    "            return True\n",
    "        i = i+1\n",
    "    return False\n",
    "\n",
    "print(isin_linearSearch_while_version([4,2,6,7,10],1))\n",
    "print(isin_linearSearch_while_version([4,2,6,7,10],6))\n",
    "print(isin_linearSearch_while_version([4,2,6,7,10],11))"
   ]
  },
  {
   "cell_type": "code",
   "execution_count": 0,
   "metadata": {
    "collapsed": false
   },
   "outputs": [
   ],
   "source": [
    "def isin_linearSearch_while_version(L,item):\n",
    "    'Returns True when item is in L, False otherwise'\n",
    "    i = 0\n",
    "    while i < len(L):\n",
    "        # Loop Invariant Entry: item may be in {L[k] : k in [i,...,len(L))}\n",
    "        # item is not in {L[k] : k in [0,...,i)} (nothing missed)\n",
    "        if L[i] == item:\n",
    "            return True # Loop Invariant Exit 1: item was found\n",
    "        i = i+1\n",
    "        # Termination Guarantee: Size of problem, |[i,...,len(L))| has been reduced by 1\n",
    "\n",
    "    # Loop Invariant Exit 2: no remaining elements remain to check\n",
    "    return False\n",
    "\n",
    "print(isin_linearSearch_while_version([4,2,6,7,10],1))\n",
    "print(isin_linearSearch_while_version([4,2,6,7,10],6))\n",
    "print(isin_linearSearch_while_version([4,2,6,7,10],11))"
   ]
  },
  {
   "cell_type": "markdown",
   "metadata": {
    "collapsed": false
   },
   "source": [
    "Once you clearly understand how things like `for` loops operate, you can also reason about them directly, e.g.,"
   ]
  },
  {
   "cell_type": "code",
   "execution_count": 0,
   "metadata": {
    "collapsed": false
   },
   "outputs": [
   ],
   "source": [
    "def isin_linearSearch(L,item):\n",
    "    'Returns True when item is in L, False otherwise'\n",
    "    for e in L:\n",
    "        # Looop Invariant Entry: item may remain in rest of L\n",
    "        # item not present in the beginning of L (no skipping)\n",
    "        if e == item:\n",
    "            return True # Loop *Invariant Exit #1* item was found\n",
    "        # Termination: elements following e will be considered\n",
    "\n",
    "    *Invariant Exit #2* no remaining elements remain to check\n",
    "    return False\n"
   ]
  },
  {
   "cell_type": "markdown",
   "metadata": {
    "collapsed": false
   },
   "source": [
    "##### Calculating acutal runtimes\n",
    "Assumption: \n",
    "\n",
    "* Each __primitive statement__ takes a certain amount of time to execute.\n",
    "* For a given input we can add up the individual times to get the total time.\n",
    "\n",
    "Example:\n",
    "\n",
    "Below, the input size is len(L), times are indicated by `t1,...,t7` and we assume similar statements take a similar amount of time."
   ]
  },
  {
   "cell_type": "code",
   "execution_count": 0,
   "metadata": {
    "collapsed": false
   },
   "outputs": [
   ],
   "source": [
    "TIME\n",
    "\n",
    "t0   def isin_binarySearch(L,item):   # Assign calling arguments to local variables L and item\n",
    "         '''Returns True when item is in L, False otherwise. \n",
    "         Assumes L is sorted in ascending order.'''\n",
    "t1       low = 0                      # Assign constant\n",
    "t2       high = len(L) - 1            # Access len method, substract a constant\n",
    "t3       while low <= high:           # Access two variables, comparison with jump\n",
    "t4           mid = (low + high) // 2  # lookup two numbers and add them, then divide by 2\n",
    "t5*          if L[mid] == item:       # Access two variables, lookup array element, comparison with jump\n",
    "t6+               return True         # Return constant boolean value\n",
    "t5*          if L[mid] > item:        # Access two variables, lookup array element, comparison with jump\n",
    "t7-              high = mid - 1       # lookup value, substract 1\n",
    "t8           else:                    # The guess was too low.\n",
    "t7-              low = mid + 1        # lookup value, add 1\n",
    "t6+      return False                 # Return constant boolean value\n"
   ]
  },
  {
   "cell_type": "markdown",
   "metadata": {
    "collapsed": false
   },
   "source": [
    "Can use this approach to calculate worst cast runtime on a particular piece of hardware.\n",
    "\n",
    "**Question:** Where is this sort of analysis very important?"
   ]
  },
  {
   "cell_type": "raw",
   "metadata": {
    "collapsed": false
   },
   "source": [
    "n low high mid  RT(n)  # worst case, assume item is too small\n",
    "0  0  -1        RT(0) = (t0 + t1 + t2) + (t3 + t6)\n",
    "\n",
    "1  0   0    0   RT(1) = (t0 + t1 + t2) + (t3 + t4 + 2*t5 + t7) +\n",
    "   0  -1         (t3 + t6) \n",
    "\n",
    "2  0   1    0   RT(2) = (t0 + t1 + t2) + (t3 + t4 + 2*t5 + t7) +\n",
    "   0  -1         (t3 + t6)\n",
    "\n",
    "3  0   2    1   RT(2) = (t0 + t1 + t2) + (t3 + t4 + 2*t5 + t7) +\n",
    "   0   1    0    (t3 + t4 + 2*t5 + t7) +\n",
    "   0  -1        (t3 + t6)\n",
    "\n",
    "4  0   3    1   RT(n) = (t0 + t1 + t2) + (t3 + t4 + 2*t5 + t7) +\n",
    "   0   0    0    (t3 + t4 + 2*t5 + t7) +\n",
    "   0  -1         (t3 + t6)\n",
    "\n",
    "5  0   4    2   RT(n) = (t0 + t1 + t2) + (t3 + t4 + 2*t5 + t7) +\n",
    "   0   1    0    (t3 + t4 + 2*t5 + t7) +\n",
    "   0   0    0    (t3 + t4 + 2*t5 + t7) +\n",
    "   0  -1         (t3 + t6)\n",
    "\n",
    "6  0   5    2   RT(n) = (t0 + t1 + t3) + (t3 + t4 + 2*t5 + t7) +\n",
    "   0   1    0    (t3 + t4 + 2*t5 + t7) +\n",
    "   0   0    0    (t3 + t4 + 2*t5 + t7) +\n",
    "   0  -1         (t3 + t6)\n",
    "\n",
    "In general what is RT(n)?"
   ]
  },
  {
   "cell_type": "markdown",
   "metadata": {
    "collapsed": false
   },
   "source": [
    "**Solution**\n",
    "\n",
    "$\\newcommand\\floor[1]{\\lfloor#1\\rfloor}$ \n",
    "$\\newcommand\\ceil[1]{\\lceil#1\\rceil}$\n",
    "For $n>0$\n",
    "$$RT(n) = (t0 + t1 + t2) + (t3 + t4 + 2*t5 + t7)\\ceil{\\log(n)}+(t3+t6)$$\n",
    "\n",
    "But even this isn't quite right due to _caching_, _Turbo Boost Technology_, etc."
   ]
  },
  {
   "cell_type": "markdown",
   "metadata": {
    "collapsed": false
   },
   "source": [
    "##### Algorithmic Runtime, I\n",
    "\n",
    "Goal: Move away from **machine-dependent details**, but still talk about performance of Algorithms.\n",
    "\n",
    "Idea #1: Bound the time of all statements that don't depend on the size of the input by a constant!\n",
    "\n",
    "Specifically, take C >= max(t1,t2,...,tk)\n",
    "\n",
    "* This is possible because there are a finite number of statements.\n",
    "\n",
    "As before we can the total number of Cs for a given input, and \n",
    "can also count the number of Cs for a worst-case input of size n."
   ]
  },
  {
   "cell_type": "code",
   "execution_count": 0,
   "metadata": {
    "collapsed": false
   },
   "outputs": [
   ],
   "source": [
    "TIME\n",
    "\n",
    "C   def isin_binarySearch(L,item): # L=[1], item=1\n",
    "         '''Returns True when item is in L, False otherwise. \n",
    "         Assumes L is sorted in ascending order.'''\n",
    "C        low = 0\n",
    "C        high = len(L) - 1\n",
    "C        while low < high:\n",
    "C           mid = (low + high) // 2\n",
    "C            if L[mid] == item:\n",
    "C                return True\n",
    "C            if L[mid] > item: # list[mid] was too high\n",
    "C                high = mid - 1\n",
    "C            else: # The guess was too low.\n",
    "C                low = mid + 1\n",
    "C        return False # Item doesn't exist"
   ]
  },
  {
   "cell_type": "markdown",
   "metadata": {
    "collapsed": false
   },
   "source": [
    "Q: What is the runtime bound in this case?\n",
    "\\\n",
    "A: Can just renumber everything\n",
    "```\n",
    "n low high  mid RT(n)  # worst case, assume item is too small\n",
    "0  0  -1        RT(0) = 3C + 2C\n",
    "1  0   0    0   RT(1) = 3C + 5C +\n",
    "   0  -1         2C \n",
    "2  0   1    0   RT(2) = 3C + 5C +\n",
    "   0  -1         2C\n",
    "3  0   2    1   RT(2) = 3C + 5C +\n",
    "   0   1    0    4C +\n",
    "   0  -1        2C\n",
    "4  0   3    1   RT(n) =  3C + 5C +\n",
    "   0   0    0    5C +\n",
    "   0  -1         2C\n",
    "5  0   4    2   RT(n) = 3C + 5C +\n",
    "   0   1    0    5C +\n",
    "   0   0    0    5C +\n",
    "   0  -1         2C\n",
    "6  0   5    2   RT(n) = 3C + 5C +\n",
    "   0   1    0    5C +\n",
    "   0   0    0    5C +\n",
    "   0  -1         2C\n",
    "```\n",
    "\n",
    "The runtime bounds RTB(n) is as follows:\n",
    "$\\newcommand\\floor[1]{\\lfloor#1\\rfloor}$ \n",
    "$\\newcommand\\ceil[1]{\\lceil#1\\rceil}$\n",
    "For $n>0$\n",
    "$$RTB(n) = 3C + 5C\\ceil{\\log(n)}+2C$$"
   ]
  },
  {
   "cell_type": "markdown",
   "metadata": {
    "collapsed": false
   },
   "source": [
    "##### Algorithmic Run-time, II\n",
    "\n",
    "Goal: Move away from machine-dependent details, but still talk about performance of Algorithms.\n",
    "\n",
    "Another Idea: Partition code into blocks of statements that don't depend on the size of the input, bound time for each block by a constant.\n",
    "\n",
    "* This is possible because there are a finite number of statement blocks.\n",
    "\n",
    "As before we can add up the total number of constants for a given input, can also count the number for a worst-case input of size n.\n"
   ]
  },
  {
   "cell_type": "code",
   "execution_count": 0,
   "metadata": {
    "collapsed": false
   },
   "outputs": [
   ],
   "source": [
    "TIME def isin_binarySearch(L,item): # L=[1], item=1\n",
    "         '''Returns True when item is in L, False otherwise. \n",
    "         Assumes L is sorted in ascending order.'''\n",
    "------------------------------------------------------------\n",
    "A        low = 0\n",
    "         high = len(L) - 1\n",
    "-----------------------------------------------------------\n",
    "B        while low < high:\n",
    "             mid = (low + high) // 2\n",
    "             if L[mid] == item:\n",
    "                 return True\n",
    "             if L[mid] > item: # list[mid] was too high\n",
    "                 high = mid - 1\n",
    "             else: # The guess was too low.\n",
    "                 low = mid + 1\n",
    "-----------------------------------------------------------\n",
    "C        return False # Item doesn't exist\n"
   ]
  },
  {
   "cell_type": "markdown",
   "metadata": {
    "collapsed": false
   },
   "source": [
    "For a given input, we can add up the total number of statement blocks that were entered.\n",
    "This gives a coarse but useful bound on the runtime.\n",
    "\n",
    "For Binary Search (and most algorithms):\n",
    "\n",
    "There are at most \n",
    "* A units of setup time\n",
    "* B units of time per iteration\n",
    "* C units of exit time.\n",
    "\n",
    "\n",
    "The worst-case algorithmic runtime for an input of size $n>0$ is $$A+B\\lceil{\\log_2{n}}\\rceil+C$$\n",
    "\n",
    "Thinking in terms of setup time, calculation time, and exit time is a very useful way to compare different ways of solving a problem.  This let's us meaningful compare algorithms, even for small n."
   ]
  },
  {
   "cell_type": "markdown",
   "metadata": {
    "collapsed": false
   },
   "source": [
    "**Example** \n",
    "Using Algorithmic Run-Time (ART), we will compare using linear search versus pre-sorting and binary search to check whether or not $k$ numbers are in an unsorted list of length $n$.\n",
    "\n",
    "We will assume sorting takes $n\\log{n}$ operations."
   ]
  },
  {
   "cell_type": "markdown",
   "metadata": {
    "collapsed": false
   },
   "source": [
    "```\n",
    "def isin_binarySearch_kitems(L,items): # L=[1], item=1\n",
    "         '''Returns True when item is in L, False otherwise.'''\n",
    "        L = sorted(L) # Takes A_s+(n*log n)*B_s+C_s\n",
    "        return [isin_binarySearch(L,item) for item in items]\n",
    "```\n",
    "\n",
    "$ART(linear\\_search, n) = A_l+B_l \\cdot n+C_l$\n",
    "\n",
    "$ART(binary\\_search, n) = A_b+B_b \\cdot \\log{n}+C_b$\n",
    "\n",
    "$ART([sort, binary\\_search], n, k) = A_s + B_s \\cdot n\\log{n}+ C_s + k \\cdot (A_b+B_b \\cdot \\log{n}+C_b)$\n",
    "\n",
    "$ART(linear\\_search, n, k) = k \\cdot (A_l+B_l \\cdot n+C_l)$"
   ]
  }
 ],
 "metadata": {
  "kernelspec": {
   "display_name": "Python 3 (Anaconda 2020)",
   "env": {
    "ADDR2LINE": "/ext/anaconda2020.02/bin/x86_64-conda_cos6-linux-gnu-addr2line",
    "ANACONDA2019": "$EXT/anaconda-2019.03",
    "ANACONDA2020": "/ext/anaconda2020.02",
    "ANACONDA3": "$EXT/anaconda3",
    "ANACONDA5": "$EXT/anaconda5",
    "AR": "/ext/anaconda2020.02/bin/x86_64-conda_cos6-linux-gnu-ar",
    "AS": "/ext/anaconda2020.02/bin/x86_64-conda_cos6-linux-gnu-as",
    "CC": "/ext/anaconda2020.02/bin/x86_64-conda_cos6-linux-gnu-cc",
    "CFLAGS": "-march=nocona -mtune=haswell -ftree-vectorize -fPIC -fstack-protector-strong -fno-plt -O2 -ffunction-sections -pipe -isystem /ext/anaconda2020.02/include",
    "CMAKE_PREFIX_PATH": "/ext/anaconda2020.02:/ext/anaconda2020.02/x86_64-conda_cos6-linux-gnu/sysroot/usr",
    "CONDA_BACKUP_HOST": "x86_64-conda_cos6-linux-gnu",
    "CONDA_BUILD_SYSROOT": "/ext/anaconda2020.02/x86_64-conda_cos6-linux-gnu/sysroot",
    "CONDA_DEFAULT_ENV": "base",
    "CONDA_EXE": "/ext/anaconda2020.02/bin/conda",
    "CONDA_MKL_INTERFACE_LAYER_BACKUP": "",
    "CONDA_PREFIX": "/ext/anaconda2020.02",
    "CONDA_PROMPT_MODIFIER": "(base) ",
    "CONDA_PYTHON_EXE": "/ext/anaconda2020.02/bin/python",
    "CONDA_SHLVL": "1",
    "CPP": "/ext/anaconda2020.02/bin/x86_64-conda_cos6-linux-gnu-cpp",
    "CPPFLAGS": "-DNDEBUG -D_FORTIFY_SOURCE=2 -O2 -isystem /ext/anaconda2020.02/include",
    "CXX": "/ext/anaconda2020.02/bin/x86_64-conda_cos6-linux-gnu-c++",
    "CXXFILT": "/ext/anaconda2020.02/bin/x86_64-conda_cos6-linux-gnu-c++filt",
    "CXXFLAGS": "-fvisibility-inlines-hidden -std=c++17 -fmessage-length=0 -march=nocona -mtune=haswell -ftree-vectorize -fPIC -fstack-protector-strong -fno-plt -O2 -ffunction-sections -pipe -isystem /ext/anaconda2020.02/include",
    "DEBUG_CFLAGS": "-march=nocona -mtune=haswell -ftree-vectorize -fPIC -fstack-protector-all -fno-plt -Og -g -Wall -Wextra -fvar-tracking-assignments -ffunction-sections -pipe -isystem /ext/anaconda2020.02/include",
    "DEBUG_CPPFLAGS": "-D_DEBUG -D_FORTIFY_SOURCE=2 -Og -isystem /ext/anaconda2020.02/include",
    "DEBUG_CXXFLAGS": "-fvisibility-inlines-hidden -std=c++17 -fmessage-length=0 -march=nocona -mtune=haswell -ftree-vectorize -fPIC -fstack-protector-all -fno-plt -Og -g -Wall -Wextra -fvar-tracking-assignments -ffunction-sections -pipe -isystem /ext/anaconda2020.02/include",
    "DEBUG_FFLAGS": "-fopenmp -march=nocona -mtune=haswell -ftree-vectorize -fPIC -fstack-protector-strong -fno-plt -O2 -ffunction-sections -pipe -isystem /ext/anaconda2020.02/include -fopenmp -march=nocona -mtune=haswell -ftree-vectorize -fPIC -fstack-protector-all -fno-plt -Og -g -Wall -Wextra -fcheck=all -fbacktrace -fimplicit-none -fvar-tracking-assignments -ffunction-sections -pipe",
    "DEBUG_FORTRANFLAGS": "-fopenmp -march=nocona -mtune=haswell -ftree-vectorize -fPIC -fstack-protector-strong -fno-plt -O2 -ffunction-sections -pipe -isystem /ext/anaconda2020.02/include -fopenmp -march=nocona -mtune=haswell -ftree-vectorize -fPIC -fstack-protector-all -fno-plt -Og -g -Wall -Wextra -fcheck=all -fbacktrace -fimplicit-none -fvar-tracking-assignments -ffunction-sections -pipe",
    "ELFEDIT": "/ext/anaconda2020.02/bin/x86_64-conda_cos6-linux-gnu-elfedit",
    "F77": "/ext/anaconda2020.02/bin/x86_64-conda_cos6-linux-gnu-gfortran",
    "F90": "/ext/anaconda2020.02/bin/x86_64-conda_cos6-linux-gnu-gfortran",
    "F95": "/ext/anaconda2020.02/bin/x86_64-conda_cos6-linux-gnu-f95",
    "FC": "/ext/anaconda2020.02/bin/x86_64-conda_cos6-linux-gnu-gfortran",
    "FFLAGS": "-fopenmp -march=nocona -mtune=haswell -ftree-vectorize -fPIC -fstack-protector-strong -fno-plt -O2 -ffunction-sections -pipe -isystem /ext/anaconda2020.02/include",
    "FORTRANFLAGS": "-fopenmp -march=nocona -mtune=haswell -ftree-vectorize -fPIC -fstack-protector-strong -fno-plt -O2 -ffunction-sections -pipe -isystem /ext/anaconda2020.02/include",
    "GCC": "/ext/anaconda2020.02/bin/x86_64-conda_cos6-linux-gnu-gcc",
    "GCC_AR": "/ext/anaconda2020.02/bin/x86_64-conda_cos6-linux-gnu-gcc-ar",
    "GCC_NM": "/ext/anaconda2020.02/bin/x86_64-conda_cos6-linux-gnu-gcc-nm",
    "GCC_RANLIB": "/ext/anaconda2020.02/bin/x86_64-conda_cos6-linux-gnu-gcc-ranlib",
    "GDAL_DATA": "/ext/anaconda2020.02/share/gdal",
    "GFORTRAN": "/ext/anaconda2020.02/bin/x86_64-conda_cos6-linux-gnu-gfortran",
    "GPROF": "/ext/anaconda2020.02/bin/x86_64-conda_cos6-linux-gnu-gprof",
    "GXX": "/ext/anaconda2020.02/bin/x86_64-conda_cos6-linux-gnu-g++",
    "JAVA_HOME": "/ext/anaconda2020.02",
    "JAVA_HOME_CONDA_BACKUP": "",
    "JAVA_LD_LIBRARY_PATH": "/ext/anaconda2020.02/lib/server",
    "LD": "/ext/anaconda2020.02/bin/x86_64-conda_cos6-linux-gnu-ld",
    "LDFLAGS": "-Wl,-O2 -Wl,--sort-common -Wl,--as-needed -Wl,-z,relro -Wl,-z,now -Wl,--disable-new-dtags -Wl,--gc-sections -Wl,-rpath,/ext/anaconda2020.02/lib -Wl,-rpath-link,/ext/anaconda2020.02/lib -L/ext/anaconda2020.02/lib",
    "LD_GOLD": "/ext/anaconda2020.02/bin/x86_64-conda_cos6-linux-gnu-ld.gold",
    "LD_LIBRARY_PATH": "/ext/anaconda2020.02/lib",
    "MKL_INTERFACE_LAYER": "LP64,GNU",
    "MKL_THREADING_LAYER": "GNU",
    "NM": "/ext/anaconda2020.02/bin/x86_64-conda_cos6-linux-gnu-nm",
    "OBJCOPY": "/ext/anaconda2020.02/bin/x86_64-conda_cos6-linux-gnu-objcopy",
    "OBJDUMP": "/ext/anaconda2020.02/bin/x86_64-conda_cos6-linux-gnu-objdump",
    "OLDPWD": "/ext/anaconda2020.02",
    "PATH": "/ext/anaconda2020.02/bin:/ext/anaconda2020.02/bin:/ext/anaconda2020.02/condabin:/cocalc/bin:/cocalc/src/smc-project/bin:/home/salvus/bin:/home/salvus/.local/bin:/usr/lib/xpra:/ext/bin:/opt/ghc/bin:/usr/local/sbin:/usr/local/bin:/usr/sbin:/usr/bin:/sbin:/bin:/snap/bin:/usr/lib/postgresql/10/bin:/ext/data/homer/bin:/ext/data/weblogo",
    "PROJ_LIB": "/ext/anaconda2020.02/share/proj",
    "RANLIB": "/ext/anaconda2020.02/bin/x86_64-conda_cos6-linux-gnu-ranlib",
    "READELF": "/ext/anaconda2020.02/bin/x86_64-conda_cos6-linux-gnu-readelf",
    "RSTUDIO_WHICH_R": "/ext/anaconda2020.02/bin/R",
    "SIZE": "/ext/anaconda2020.02/bin/x86_64-conda_cos6-linux-gnu-size",
    "STRINGS": "/ext/anaconda2020.02/bin/x86_64-conda_cos6-linux-gnu-strings",
    "STRIP": "/ext/anaconda2020.02/bin/x86_64-conda_cos6-linux-gnu-strip",
    "_CE_CONDA": "",
    "_CE_M": "",
    "_CONDA_PYTHON_SYSCONFIGDATA_NAME": "_sysconfigdata_x86_64_conda_cos6_linux_gnu"
   },
   "language": "python",
   "metadata": {
    "cocalc": {
     "description": "Python/R distribution for data science",
     "priority": 5,
     "url": "https://www.anaconda.com/distribution/"
    }
   },
   "name": "anaconda2020"
  },
  "language_info": {
   "codemirror_mode": {
    "name": "ipython",
    "version": 3
   },
   "file_extension": ".py",
   "mimetype": "text/x-python",
   "name": "python",
   "nbconvert_exporter": "python",
   "pygments_lexer": "ipython3",
   "version": "3.7.8"
  }
 },
 "nbformat": 4,
 "nbformat_minor": 4
}